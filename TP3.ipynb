{
 "cells": [
  {
   "cell_type": "markdown",
   "id": "4924c63b",
   "metadata": {},
   "source": [
    "# Import"
   ]
  },
  {
   "cell_type": "code",
   "execution_count": null,
   "id": "398406a7",
   "metadata": {},
   "outputs": [],
   "source": [
    "%matplotlib inline\n"
   ]
  },
  {
   "cell_type": "code",
   "execution_count": null,
   "metadata": {},
   "outputs": [],
   "source": [
    "from utils import *\n",
    "import pandas as pd\n",
    "import seaborn as sns\n",
    "import matplotlib.pyplot as plt\n",
    "import numpy as np\n"
   ]
  },
  {
   "cell_type": "markdown",
   "id": "8010972b",
   "metadata": {},
   "source": [
    "# Running"
   ]
  },
  {
   "cell_type": "markdown",
   "id": "839a90cf",
   "metadata": {},
   "source": [
    "## Setup"
   ]
  },
  {
   "cell_type": "code",
   "execution_count": null,
   "id": "36ea409f",
   "metadata": {},
   "outputs": [],
   "source": [
    "max_evaluations = 10000  # Les critères d'arrêt \n",
    "max_iterations  = 5000\n",
    "\n",
    "nb_runs         = 30    # le nombre d'exécution de chaque algorithme\n",
    "\n",
    "verbose         = False # True = affichage par iteration (plus lent)\n",
    "\n",
    "problems_name = [\n",
    "    # 'knapsac',\n",
    "    # 'tsp',\n",
    "    # 'set_covering',\n",
    "    'onemax',\n",
    "    'leadingones',\n",
    "    'binval'\n",
    "]\n",
    "\n",
    "#\n",
    "# choix des algorithme et des paramètre \n",
    "############################################################################\n",
    "\n",
    "algo_list = [    # Liste des algorithmes lancés (le nom des classes)\n",
    "    # RandomLS,\n",
    "    # HillClimbingLS,\n",
    "    # FirstImprovementHillClimbingLS,\n",
    "    # RandomizedHillClimbingLS,\n",
    "    # SimulatedAnnealingLS,\n",
    "    # TabuLS,\n",
    "    # RandomGA,\n",
    "    MuComaLambdaGA,\n",
    "    # MuComaLambdaUniformGA,\n",
    "    # MuComaLambdaRouletteGA\n",
    "]\n",
    "seq1 = ['one_point', 'uniform', 'one_point', 'uniform']\n",
    "seq2 = ['bitflip', 'bitflip', 'uniform', 'uniform']\n",
    "for i in range(0, 2):\n",
    "    seq1.append(random.uniform(0.1, 0.9))\n",
    "    seq2.append(random.uniform(0.1, 0.9))\n",
    "algo_options_lambda = { # Paramètres spécifiques aux algorithmes. Ce dictionnaire \n",
    "    'mu' : lambda : 50,    # est passé aux constructeurs de l'algorithme \n",
    "    'lambda' : lambda : 20,\n",
    "    'pc' : lambda : 0.8,\n",
    "    'pm' : lambda : 0.2,\n",
    "    'cdf' : lambda : 'fitness', # 'rank' ou 'fitness'\n",
    "    'xover' : lambda : seq1.pop(0), # 'onepoint' ou 'uniform'\n",
    "    'mutation' : lambda : seq2.pop(0), # 'bitflip' ou 'uniform'\n",
    "    'selection_population' : lambda : 'deterministe', # 'aleatoire' ou 'deterministe' ou 'roulette' ou 'tournoi'\n",
    "    'S' : lambda : 2,\n",
    "    'alpha' : lambda : 0.1,\n",
    "    'T0' : lambda : 100,\n",
    "    'gamma' : lambda : 0.9,\n",
    "    't': lambda : 50,\n",
    "}\n",
    "\n",
    "extra_stats = [  # Liste des chose à afficher à l'écran\n",
    "    'sig',\n",
    "    'max',\n",
    "    'min',\n",
    "    'mu',\n",
    "    'alpha',\n",
    "    'lambda',\n",
    "    'pc',\n",
    "    'pm',\n",
    "    'type_cdf',\n",
    "    'S',\n",
    "    'gamma',\n",
    "    'T',\n",
    "    'T0',\n",
    "    't',\n",
    "    'type_xover',\n",
    "    'type_mutation',\n",
    "    'type_selection_population',\n",
    "    'k',\n",
    "    'n',\n",
    "\n",
    "]                # (il faut surcharger la print_step dans l'agorithme)    \n",
    "                    # cf. split_stat_line dans seach/misc/misc.py"
   ]
  },
  {
   "cell_type": "markdown",
   "id": "a85dd266",
   "metadata": {},
   "source": [
    "## Execution"
   ]
  },
  {
   "cell_type": "markdown",
   "id": "883306a9",
   "metadata": {},
   "source": [
    "### Small problems"
   ]
  },
  {
   "cell_type": "code",
   "execution_count": null,
   "id": "338a57c8",
   "metadata": {},
   "outputs": [],
   "source": [
    "stats = execute_and_save_stats(\n",
    "    problem_size='small',\n",
    "    nb_exec=1,\n",
    "    max_evaluations=max_evaluations, max_iterations=max_iterations, \n",
    "    nb_runs=nb_runs, \n",
    "    algo_options_lambda=algo_options_lambda, \n",
    "    extra_stats=extra_stats, \n",
    "    verbose=verbose,\n",
    "    algo_list=algo_list,\n",
    "    problems_name=problems_name\n",
    ")"
   ]
  },
  {
   "cell_type": "markdown",
   "id": "37f68315",
   "metadata": {},
   "source": [
    "### Medium problems"
   ]
  },
  {
   "cell_type": "code",
   "execution_count": null,
   "id": "dde60aef",
   "metadata": {},
   "outputs": [],
   "source": [
    "stats = execute_and_save_stats(\n",
    "    problem_size='medium',\n",
    "    nb_exec=3,\n",
    "    max_evaluations=max_evaluations, max_iterations=max_iterations, \n",
    "    nb_runs=nb_runs, \n",
    "    algo_options_lambda=algo_options_lambda, \n",
    "    extra_stats=extra_stats, \n",
    "    verbose=verbose,\n",
    "    algo_list=algo_list,\n",
    "    problems_name=problems_name\n",
    ")"
   ]
  },
  {
   "cell_type": "markdown",
   "id": "595948c8",
   "metadata": {},
   "source": [
    "### Large problems"
   ]
  },
  {
   "cell_type": "code",
   "execution_count": null,
   "id": "6d47fcd2",
   "metadata": {},
   "outputs": [],
   "source": [
    "stats = execute_and_save_stats(\n",
    "    problem_size='large',\n",
    "    nb_exec=3,\n",
    "    max_evaluations=max_evaluations, max_iterations=max_iterations, \n",
    "    nb_runs=nb_runs, \n",
    "    algo_options_lambda=algo_options_lambda, \n",
    "    extra_stats=extra_stats, \n",
    "    verbose=verbose,\n",
    "    algo_list=algo_list,\n",
    "    problems_name=problems_name\n",
    ")"
   ]
  },
  {
   "cell_type": "markdown",
   "id": "730b8c3b",
   "metadata": {},
   "source": [
    "# Plotting"
   ]
  },
  {
   "cell_type": "markdown",
   "id": "398bd235",
   "metadata": {},
   "source": [
    "## Creating the plot"
   ]
  },
  {
   "cell_type": "code",
   "execution_count": null,
   "id": "850fbd41",
   "metadata": {},
   "outputs": [],
   "source": [
    "# Extract 'iter' and 'val' columns for plotting\n",
    "# clean data (remove infinities)\n",
    "data = pd.DataFrame()\n",
    "stats = {}\n",
    "for algo in [RandomGA, MuComaLambdaGA]:\n",
    "    algo_name = algo.__name__\n",
    "    for problem_name in problems_name:\n",
    "        for problem_size in ['small']:\n",
    "            nom_fichier = f\"data/{algo_name}-{problem_name}-{problem_size}.csv\"\n",
    "            if  os.path.exists(nom_fichier):\n",
    "                print(f\"Loading {nom_fichier}\")\n",
    "                new_data = pd.read_csv(nom_fichier,)\n",
    "                new_data['problem_size'] = problem_size\n",
    "                print(new_data.keys())\n",
    "                stats[algo_name] = pd.concat([new_data, stats.get(algo_name, pd.DataFrame())])"
   ]
  },
  {
   "cell_type": "code",
   "execution_count": null,
   "id": "0c6edc9f",
   "metadata": {},
   "outputs": [],
   "source": [
    "data = stats['MuComaLambdaGA']\n",
    "data = data[data['problem_size'] == 'small']\n",
    "data"
   ]
  },
  {
   "cell_type": "markdown",
   "id": "595ce21a",
   "metadata": {},
   "source": [
    "# Réponses"
   ]
  },
  {
   "cell_type": "markdown",
   "id": "ed9f697d",
   "metadata": {},
   "source": [
    "## Variation de mu"
   ]
  },
  {
   "cell_type": "code",
   "execution_count": null,
   "id": "80607784",
   "metadata": {},
   "outputs": [],
   "source": [
    "data = stats['RandomGA']\n"
   ]
  },
  {
   "cell_type": "code",
   "execution_count": null,
   "id": "e44b8250",
   "metadata": {},
   "outputs": [],
   "source": [
    "data"
   ]
  },
  {
   "cell_type": "code",
   "execution_count": null,
   "id": "b44f3ada",
   "metadata": {},
   "outputs": [],
   "source": [
    "sns.set_theme()"
   ]
  },
  {
   "cell_type": "markdown",
   "id": "c1b8c769",
   "metadata": {},
   "source": [
    "### Small problems"
   ]
  },
  {
   "cell_type": "code",
   "execution_count": null,
   "id": "4b6e1953",
   "metadata": {},
   "outputs": [],
   "source": [
    "data = stats['RandomGA'][stats['RandomGA']['problem_size'] == 'large']"
   ]
  },
  {
   "cell_type": "markdown",
   "id": "8f5758b8",
   "metadata": {},
   "source": [
    "#### Valeurs"
   ]
  },
  {
   "cell_type": "code",
   "execution_count": null,
   "id": "9c266c01",
   "metadata": {},
   "outputs": [],
   "source": [
    "g = sns.FacetGrid(data, row=\"problem\", col=\"mu\", margin_titles=True,sharex='row', sharey='row')\n",
    "g.map(sns.lineplot, \"iter\", \"val\", \"run\", alpha=.5, linewidth=0.5, palette='muted')\n",
    "g.set_axis_labels(\"Iteration\", \"Valeur\")\n",
    "g.set_titles(col_template=\"{col_name} mu\", row_template=\"{row_name} problem\")\n",
    "g.figure.dpi = 300\n",
    "plt.suptitle('Comparaison val RandomGA - problems small')\n",
    "g.tight_layout()"
   ]
  },
  {
   "cell_type": "code",
   "execution_count": null,
   "id": "c9db1c83",
   "metadata": {},
   "outputs": [],
   "source": [
    "algo_name = 'RandomGA'\n",
    "x_axis_name = 'mu'\n",
    "y_axis_name = 'val'\n",
    "x_axis_label = 'Mu'\n",
    "y_axis_label = 'Valeur max de val par run'\n",
    "\n",
    "data = stats[algo_name]\n",
    "data = data.round(2)\n",
    "g = sns.FacetGrid(data.groupby(['problem', 'problem_size', x_axis_name, 'run'])[y_axis_name].max().reset_index(), row=\"problem\", col='problem_size', margin_titles=True,sharex=False, sharey=False,height=3)\n",
    "g.map(sns.boxplot, x_axis_name, y_axis_name, palette='muted')\n",
    "g.set_axis_labels(x_axis_label, y_axis_label)\n",
    "plt.suptitle(f'Comparaison des valeurs max de {y_axis_name} par run en fonction de {x_axis_name} - {algo_name}')\n",
    "g.tight_layout()"
   ]
  },
  {
   "cell_type": "code",
   "execution_count": null,
   "id": "d9354d69",
   "metadata": {},
   "outputs": [],
   "source": [
    "algo_name = 'MuComaLambdaGA'\n",
    "x_axis_name = 'pc'\n",
    "y_axis_name = 'val'\n",
    "x_axis_label = 'pc'\n",
    "y_axis_label = 'Valeur max de val par run'\n",
    "\n",
    "data = stats[algo_name]\n",
    "data = data.round(2)\n",
    "g = sns.FacetGrid(data.groupby(['problem', 'problem_size', x_axis_name, 'run'])[y_axis_name].max().reset_index(), row=\"problem\", col='problem_size', margin_titles=True,sharex=False, sharey=False,height=3)\n",
    "g.map(sns.boxplot, x_axis_name, y_axis_name, palette='muted')\n",
    "g.set_axis_labels(x_axis_label, y_axis_label)\n",
    "plt.suptitle(f'Comparaison des valeurs max de {y_axis_name} par run en fonction de {x_axis_name} - {algo_name}')\n",
    "g.tight_layout()"
   ]
  },
  {
   "cell_type": "code",
   "execution_count": null,
   "id": "93525cd7",
   "metadata": {},
   "outputs": [],
   "source": [
    "algo_name = 'MuComaLambdaGA'\n",
    "x_axis_name = 'pm'\n",
    "y_axis_name = 'val'\n",
    "x_axis_label = 'pm'\n",
    "y_axis_label = 'Valeur max de val par run'\n",
    "\n",
    "data = stats[algo_name]\n",
    "data = data.round(2)\n",
    "g = sns.FacetGrid(data.groupby(['problem', 'problem_size', x_axis_name, 'run'])[y_axis_name].max().reset_index(), row=\"problem\", col='problem_size', margin_titles=True,sharex=False, sharey=False,height=3)\n",
    "g.map(sns.boxplot, x_axis_name, y_axis_name, palette='muted')\n",
    "g.set_axis_labels(x_axis_label, y_axis_label)\n",
    "plt.suptitle(f'Comparaison des valeurs max de {y_axis_name} par run en fonction de {x_axis_name} - {algo_name}')\n",
    "g.tight_layout()"
   ]
  },
  {
   "cell_type": "markdown",
   "id": "5baea98e",
   "metadata": {},
   "source": [
    "#### Max"
   ]
  },
  {
   "cell_type": "code",
   "execution_count": null,
   "id": "b66de71e",
   "metadata": {},
   "outputs": [],
   "source": [
    "g = sns.FacetGrid(data, row=\"problem\", col=\"mu\", margin_titles=True,sharex='row', sharey='row')\n",
    "g.map(sns.lineplot, \"iter\", \"max\", \"run\", alpha=.5, linewidth=0.5, palette='muted')\n",
    "g.set_axis_labels(\"Iteration\", \"Max\")\n",
    "g.set_titles(col_template=\"{col_name} mu\", row_template=\"{row_name} problem\")\n",
    "g.figure.dpi = 300\n",
    "plt.suptitle('Comparaison max RandomGA - problems small')\n",
    "g.tight_layout()"
   ]
  },
  {
   "cell_type": "markdown",
   "id": "1519ebc7",
   "metadata": {},
   "source": [
    "#### Min"
   ]
  },
  {
   "cell_type": "code",
   "execution_count": null,
   "id": "5e9d4c06",
   "metadata": {},
   "outputs": [],
   "source": [
    "g = sns.FacetGrid(data, row=\"problem\", col=\"mu\", margin_titles=True,sharex='row', sharey='row')\n",
    "g.map(sns.lineplot, \"iter\", \"min\", \"run\", alpha=.5, linewidth=0.5, palette='muted')\n",
    "g.set_axis_labels(\"Iteration\", \"Min\")\n",
    "g.set_titles(col_template=\"{col_name} mu\", row_template=\"{row_name} problem\")\n",
    "g.figure.dpi = 300\n",
    "plt.suptitle('Comparaison min RandomGA - problems small')\n",
    "g.tight_layout()"
   ]
  },
  {
   "cell_type": "markdown",
   "id": "ae5f96f7",
   "metadata": {},
   "source": [
    "## Variation de pc et pm"
   ]
  },
  {
   "cell_type": "code",
   "execution_count": null,
   "id": "f0686f8d",
   "metadata": {},
   "outputs": [],
   "source": [
    "data = stats['MuComaLambdaGA']\n"
   ]
  },
  {
   "cell_type": "code",
   "execution_count": null,
   "id": "51abcaf2",
   "metadata": {},
   "outputs": [],
   "source": [
    "data"
   ]
  },
  {
   "cell_type": "markdown",
   "id": "e289f473",
   "metadata": {},
   "source": [
    "### Small problems"
   ]
  },
  {
   "cell_type": "code",
   "execution_count": null,
   "id": "c63ce9ff",
   "metadata": {},
   "outputs": [],
   "source": [
    "data = stats['MuComaLambdaGA'][stats['MuComaLambdaGA']['problem_size'] == 'small']"
   ]
  },
  {
   "cell_type": "markdown",
   "id": "6539b91e",
   "metadata": {},
   "source": [
    "#### Valeurs"
   ]
  },
  {
   "cell_type": "code",
   "execution_count": null,
   "id": "43e1447e",
   "metadata": {},
   "outputs": [],
   "source": [
    "g = sns.FacetGrid(data, row=\"problem\", col=\"pc\", margin_titles=True,sharex='row', sharey='row')\n",
    "g.map(sns.lineplot, \"iter\", \"val\", \"run\", alpha=.5, linewidth=0.5, palette='muted')\n",
    "g.set_axis_labels(\"Iteration\", \"Valeur\")\n",
    "g.set_titles(col_template=\"pc: {col_name}\", row_template=\"{row_name} problem\")\n",
    "g.figure.dpi = 300\n",
    "plt.suptitle('Comparaison val MuComaLambdaGA - problems small')\n",
    "g.tight_layout()"
   ]
  },
  {
   "cell_type": "code",
   "execution_count": null,
   "id": "e73751bf",
   "metadata": {},
   "outputs": [],
   "source": [
    "g = sns.FacetGrid(data, row=\"problem\", col=\"pm\", margin_titles=True,sharex='row', sharey='row')\n",
    "g.map(sns.lineplot, \"iter\", \"val\", \"run\", alpha=.5, linewidth=0.5, palette='muted')\n",
    "g.set_axis_labels(\"Iteration\", \"Valeur\")\n",
    "g.set_titles(col_template=\"pm: {col_name}\", row_template=\"{row_name} problem\")\n",
    "g.figure.dpi = 300\n",
    "plt.suptitle('Comparaison val MuComaLambdaGA - problems small')\n",
    "g.tight_layout()"
   ]
  },
  {
   "cell_type": "markdown",
   "id": "041a8329",
   "metadata": {},
   "source": [
    "#### Max"
   ]
  },
  {
   "cell_type": "code",
   "execution_count": null,
   "id": "cc237dd8",
   "metadata": {},
   "outputs": [],
   "source": [
    "g = sns.FacetGrid(data, row=\"problem\", col=\"pc\", margin_titles=True,sharex='row', sharey='row')\n",
    "g.map(sns.lineplot, \"iter\", \"max\", \"run\", alpha=.5, linewidth=0.5, palette='muted')\n",
    "g.set_axis_labels(\"Iteration\", \"Valeur\")\n",
    "g.set_titles(col_template=\"pc: {col_name}\", row_template=\"{row_name} problem\")\n",
    "g.figure.dpi = 300\n",
    "plt.suptitle('Comparaison val MuComaLambdaGA - problems small')\n",
    "g.tight_layout()"
   ]
  },
  {
   "cell_type": "code",
   "execution_count": null,
   "id": "a6b942f0",
   "metadata": {},
   "outputs": [],
   "source": [
    "g = sns.FacetGrid(data, row=\"problem\", col=\"pm\", margin_titles=True,sharex='row', sharey='row')\n",
    "g.map(sns.lineplot, \"iter\", \"max\", \"run\", alpha=.5, linewidth=0.5, palette='muted')\n",
    "g.set_axis_labels(\"Iteration\", \"Valeur\")\n",
    "g.set_titles(col_template=\"pm: {col_name:.2f }\", row_template=\"{row_name} problem\")\n",
    "g.figure.dpi = 300\n",
    "plt.suptitle('Comparaison val MuComaLambdaGA - problems small')\n",
    "g.tight_layout()"
   ]
  },
  {
   "cell_type": "markdown",
   "id": "d29ae899",
   "metadata": {},
   "source": [
    "#### Min"
   ]
  },
  {
   "cell_type": "code",
   "execution_count": null,
   "id": "3e0b2093",
   "metadata": {},
   "outputs": [],
   "source": [
    "g = sns.FacetGrid(data, row=\"problem\", col=\"mu\", margin_titles=True,sharex='row', sharey='row')\n",
    "g.map(sns.lineplot, \"iter\", \"min\", \"run\", alpha=.5, linewidth=0.5, palette='muted')\n",
    "g.set_axis_labels(\"Iteration\", \"Valeur\")\n",
    "g.set_titles(col_template=\"{col_name} mu\", row_template=\"{row_name} problem\")\n",
    "g.figure.dpi = 300\n",
    "plt.suptitle('Comparaison min RandomGA - problems small')\n",
    "g.tight_layout()"
   ]
  }
 ],
 "metadata": {
  "kernelspec": {
   "display_name": "Python 3 (ipykernel)",
   "language": "python",
   "name": "python3"
  },
  "language_info": {
   "codemirror_mode": {
    "name": "ipython",
    "version": 3
   },
   "file_extension": ".py",
   "mimetype": "text/x-python",
   "name": "python",
   "nbconvert_exporter": "python",
   "pygments_lexer": "ipython3",
   "version": "3.11.5"
  }
 },
 "nbformat": 4,
 "nbformat_minor": 5
}
